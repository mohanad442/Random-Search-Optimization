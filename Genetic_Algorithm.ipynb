{
 "cells": [
  {
   "cell_type": "code",
   "execution_count": 1,
   "metadata": {
    "id": "gqA9iNdDwGkK"
   },
   "outputs": [],
   "source": [
    "import pandas as pd\n",
    "import numpy as np\n",
    "import matplotlib.pyplot as plt\n",
    "from math import sqrt\n",
    "from matplotlib.widgets import Cursor\n",
    "%matplotlib qt"
   ]
  },
  {
   "cell_type": "code",
   "execution_count": 2,
   "metadata": {
    "id": "mui7TnAcvbX2"
   },
   "outputs": [],
   "source": [
    "data = pd.read_excel('15-Points.xlsx')"
   ]
  },
  {
   "cell_type": "code",
   "execution_count": 3,
   "metadata": {
    "colab": {
     "base_uri": "https://localhost:8080/",
     "height": 519
    },
    "id": "oXWwyL8CwBhC",
    "outputId": "9d09fec9-df3b-4090-c5ff-ca26bbc9c1af"
   },
   "outputs": [
    {
     "data": {
      "text/html": [
       "<div>\n",
       "<style scoped>\n",
       "    .dataframe tbody tr th:only-of-type {\n",
       "        vertical-align: middle;\n",
       "    }\n",
       "\n",
       "    .dataframe tbody tr th {\n",
       "        vertical-align: top;\n",
       "    }\n",
       "\n",
       "    .dataframe thead th {\n",
       "        text-align: right;\n",
       "    }\n",
       "</style>\n",
       "<table border=\"1\" class=\"dataframe\">\n",
       "  <thead>\n",
       "    <tr style=\"text-align: right;\">\n",
       "      <th></th>\n",
       "      <th>x</th>\n",
       "      <th>y</th>\n",
       "      <th>City</th>\n",
       "    </tr>\n",
       "  </thead>\n",
       "  <tbody>\n",
       "    <tr>\n",
       "      <th>0</th>\n",
       "      <td>5.500000e-08</td>\n",
       "      <td>9.860000e-09</td>\n",
       "      <td>1</td>\n",
       "    </tr>\n",
       "    <tr>\n",
       "      <th>1</th>\n",
       "      <td>-2.887330e+01</td>\n",
       "      <td>-7.980000e-08</td>\n",
       "      <td>2</td>\n",
       "    </tr>\n",
       "    <tr>\n",
       "      <th>2</th>\n",
       "      <td>-7.929160e+01</td>\n",
       "      <td>-2.140330e+01</td>\n",
       "      <td>3</td>\n",
       "    </tr>\n",
       "    <tr>\n",
       "      <th>3</th>\n",
       "      <td>-1.465770e+01</td>\n",
       "      <td>-4.338960e+01</td>\n",
       "      <td>4</td>\n",
       "    </tr>\n",
       "    <tr>\n",
       "      <th>4</th>\n",
       "      <td>-6.474730e+01</td>\n",
       "      <td>2.189820e+01</td>\n",
       "      <td>5</td>\n",
       "    </tr>\n",
       "    <tr>\n",
       "      <th>5</th>\n",
       "      <td>-2.905850e+01</td>\n",
       "      <td>-4.321670e+01</td>\n",
       "      <td>6</td>\n",
       "    </tr>\n",
       "    <tr>\n",
       "      <th>6</th>\n",
       "      <td>-7.207850e+01</td>\n",
       "      <td>1.815810e-01</td>\n",
       "      <td>7</td>\n",
       "    </tr>\n",
       "    <tr>\n",
       "      <th>7</th>\n",
       "      <td>-3.603660e+01</td>\n",
       "      <td>-2.161350e+01</td>\n",
       "      <td>8</td>\n",
       "    </tr>\n",
       "    <tr>\n",
       "      <th>8</th>\n",
       "      <td>-5.048080e+01</td>\n",
       "      <td>7.374470e+00</td>\n",
       "      <td>9</td>\n",
       "    </tr>\n",
       "    <tr>\n",
       "      <th>9</th>\n",
       "      <td>-5.058590e+01</td>\n",
       "      <td>-2.158820e+01</td>\n",
       "      <td>10</td>\n",
       "    </tr>\n",
       "    <tr>\n",
       "      <th>10</th>\n",
       "      <td>-1.358190e-01</td>\n",
       "      <td>-2.872930e+01</td>\n",
       "      <td>11</td>\n",
       "    </tr>\n",
       "    <tr>\n",
       "      <th>11</th>\n",
       "      <td>-6.508660e+01</td>\n",
       "      <td>-3.606250e+01</td>\n",
       "      <td>12</td>\n",
       "    </tr>\n",
       "    <tr>\n",
       "      <th>12</th>\n",
       "      <td>-2.149830e+01</td>\n",
       "      <td>7.319420e+00</td>\n",
       "      <td>13</td>\n",
       "    </tr>\n",
       "    <tr>\n",
       "      <th>13</th>\n",
       "      <td>-5.756870e+01</td>\n",
       "      <td>-4.325060e+01</td>\n",
       "      <td>14</td>\n",
       "    </tr>\n",
       "    <tr>\n",
       "      <th>14</th>\n",
       "      <td>-4.307000e+01</td>\n",
       "      <td>1.455480e+01</td>\n",
       "      <td>15</td>\n",
       "    </tr>\n",
       "  </tbody>\n",
       "</table>\n",
       "</div>"
      ],
      "text/plain": [
       "               x             y  City\n",
       "0   5.500000e-08  9.860000e-09     1\n",
       "1  -2.887330e+01 -7.980000e-08     2\n",
       "2  -7.929160e+01 -2.140330e+01     3\n",
       "3  -1.465770e+01 -4.338960e+01     4\n",
       "4  -6.474730e+01  2.189820e+01     5\n",
       "5  -2.905850e+01 -4.321670e+01     6\n",
       "6  -7.207850e+01  1.815810e-01     7\n",
       "7  -3.603660e+01 -2.161350e+01     8\n",
       "8  -5.048080e+01  7.374470e+00     9\n",
       "9  -5.058590e+01 -2.158820e+01    10\n",
       "10 -1.358190e-01 -2.872930e+01    11\n",
       "11 -6.508660e+01 -3.606250e+01    12\n",
       "12 -2.149830e+01  7.319420e+00    13\n",
       "13 -5.756870e+01 -4.325060e+01    14\n",
       "14 -4.307000e+01  1.455480e+01    15"
      ]
     },
     "execution_count": 3,
     "metadata": {},
     "output_type": "execute_result"
    }
   ],
   "source": [
    "data"
   ]
  },
  {
   "cell_type": "code",
   "execution_count": 4,
   "metadata": {
    "id": "8NLZy4pN0m2n"
   },
   "outputs": [],
   "source": [
    "def load_data(data):\n",
    "  data = [{'x' : x[0], 'y' : x[1], 'city' : x[2]} for x in data.values]\n",
    "  return data"
   ]
  },
  {
   "cell_type": "code",
   "execution_count": 5,
   "metadata": {
    "id": "MCxh__pdwcZa"
   },
   "outputs": [],
   "source": [
    "def Generate_distance(data):\n",
    "  n = len(data)\n",
    "  dist_mat = np.zeros((n, n))\n",
    "  for i in range(n-1):\n",
    "    x1 = data[i]['x']\n",
    "    y1 = data[i]['y']\n",
    "    dist_mat[i, i] = np.inf\n",
    "    for j in range(i + 1, n):\n",
    "      x2 = data[j]['x']\n",
    "      y2 = data[j]['y']\n",
    "      dist_mat[i, j] = sqrt((x1 - x2)**2 + (y1 - y2)**2)\n",
    "      dist_mat[j, i] = dist_mat[i, j]\n",
    "  dist_mat[i + 1, i + 1] = np.inf\n",
    "  return dist_mat"
   ]
  },
  {
   "cell_type": "code",
   "execution_count": 6,
   "metadata": {
    "id": "9MrJXCxb87B2"
   },
   "outputs": [],
   "source": [
    "def Initial_population(num_of_cities):\n",
    "  population = [np.random.permutation(num_of_cities) for i in range(Population_size)]\n",
    "  return np.array(population)"
   ]
  },
  {
   "cell_type": "code",
   "execution_count": 7,
   "metadata": {
    "id": "0Z4q9cNDFDE1"
   },
   "outputs": [],
   "source": [
    "def Cost_Function(population, distances):\n",
    "  J = np.zeros((len(population)))\n",
    "  index = 0\n",
    "  for Chromosome in population:\n",
    "    dist = 0\n",
    "    c0 = Chromosome[0]\n",
    "    for i in range(len(Chromosome) - 1):\n",
    "      c1 = Chromosome[i]\n",
    "      c2 = Chromosome[i + 1]\n",
    "      dist += distances[c1, c2]\n",
    "\n",
    "    dist += distances[c0, c2]\n",
    "    J[index] = dist\n",
    "    index += 1\n",
    "  return J"
   ]
  },
  {
   "cell_type": "code",
   "execution_count": 8,
   "metadata": {
    "id": "PbCPbtlNMuty"
   },
   "outputs": [],
   "source": [
    "def Total_distance(Chromosome, distances):\n",
    "  dist = 0\n",
    "  c0 = Chromosome[0]\n",
    "  for i in range(len(Chromosome) - 1):\n",
    "      c1 = Chromosome[i]\n",
    "      c2 = Chromosome[i + 1]\n",
    "      dist += distances[c1, c2]\n",
    "\n",
    "  dist += distances[c0, c2]\n",
    "  return dist"
   ]
  },
  {
   "cell_type": "code",
   "execution_count": 9,
   "metadata": {
    "id": "ZfJhlKYJBfkc"
   },
   "outputs": [],
   "source": [
    "def MultiCrossOver(Chromosome1, Chromosome2):\n",
    "\n",
    "  Chromosome_size = (len(Chromosome1)) // 3\n",
    "  \n",
    "  Chromosome1_1 = Chromosome1[:Chromosome_size]\n",
    "  Chromosome1_2 = Chromosome1[Chromosome_size : (Chromosome_size * 2)]\n",
    "  Chromosome1_3 = Chromosome1[(Chromosome_size * 2):]\n",
    "\n",
    "  Chromosome2_1 = Chromosome2[:Chromosome_size]\n",
    "  Chromosome2_2 = Chromosome2[Chromosome_size:(Chromosome_size * 2)]\n",
    "  Chromosome2_3 = Chromosome2[(Chromosome_size * 2):]\n",
    "\n",
    "  next_gen1 = np.concatenate((Chromosome1_1, Chromosome2_2, Chromosome1_3))\n",
    "  next_gen2 = np.concatenate((Chromosome2_1, Chromosome1_2, Chromosome2_3))\n",
    "  return list(next_gen1), list(next_gen2)"
   ]
  },
  {
   "cell_type": "code",
   "execution_count": 10,
   "metadata": {
    "id": "-SDCU2IBdBkn"
   },
   "outputs": [],
   "source": [
    "def OnePointCrossOver(Chromosome1, Chromosome2):\n",
    "  Chromosome_size = len(Chromosome1) - 1\n",
    "  random_point = np.random.randint(0, Chromosome_size)\n",
    "  \n",
    "  Chromosome1_1 = Chromosome1[:random_point]\n",
    "  Chromosome1_2 = Chromosome1[random_point:]\n",
    "\n",
    "  Chromosome2_1 = Chromosome2[:random_point]\n",
    "  Chromosome2_2 = Chromosome2[random_point:]\n",
    "\n",
    "  next_gen1 = np.concatenate((Chromosome1_1, Chromosome2_2))\n",
    "  next_gen2 = np.concatenate((Chromosome2_1, Chromosome1_2))\n",
    "  return list(next_gen1), list(next_gen2)"
   ]
  },
  {
   "cell_type": "code",
   "execution_count": 11,
   "metadata": {
    "id": "YGCAu6BOf-xw"
   },
   "outputs": [],
   "source": [
    "def UniformCrossOver(Chromosome1, Chromosome2):\n",
    "    new_gen1 = [None] * len(Chromosome1)\n",
    "    new_gen2 = [None] * len(Chromosome2)\n",
    "\n",
    "    for i in range(len(Chromosome1)):\n",
    "        # flip a coin for each chromosome to decide weather or not it will be included in the off-spring\n",
    "        if np.random.choice([True, False]):\n",
    "            new_gen1[i] = Chromosome1[i]\n",
    "            new_gen2[i] = Chromosome2[i]\n",
    "        else:\n",
    "            new_gen1[i] = Chromosome2[i]\n",
    "            new_gen2[i] = Chromosome1[i]\n",
    "\n",
    "    return new_gen1, new_gen2"
   ]
  },
  {
   "cell_type": "code",
   "execution_count": 12,
   "metadata": {
    "id": "sWPpRajk3KWf"
   },
   "outputs": [],
   "source": [
    "def modified_uniform_crossover(Chromosome1, Chromosome2):    \n",
    "    # create a mask to determine which cities to copy from Chromosome1\n",
    "    mask = [np.random.choice([0, 1]) for _ in range(len(Chromosome1))]\n",
    "    \n",
    "    # create a set of cities already copied from Chromosome1\n",
    "    copied_cities = [Chromosome1[i] for i in range(len(Chromosome1)) if mask[i] == 1]\n",
    "    \n",
    "    # create a list of remaining cities in the order of Chromosome2\n",
    "    remaining_cities = [city for city in Chromosome2 if city not in copied_cities]\n",
    "    \n",
    "    # create the offspring by combining the copied cities and remaining cities\n",
    "    offspring = [None] * len(Chromosome1)\n",
    "    for i in range(len(Chromosome1)):\n",
    "        if mask[i] == 1:\n",
    "            offspring[i] = Chromosome1[i]\n",
    "        else:\n",
    "            offspring[i] = remaining_cities.pop(0)\n",
    "    \n",
    "    return offspring"
   ]
  },
  {
   "cell_type": "code",
   "execution_count": 13,
   "metadata": {
    "id": "zKCOF7wgaoIE"
   },
   "outputs": [],
   "source": [
    "def Swaping_Mutation(Chromosome):\n",
    "  Chromosome_size = len(Chromosome)\n",
    "  pos_to_swap = np.random.randint(0, Chromosome_size, 2)\n",
    "\n",
    "  Chromosome[pos_to_swap[0]], Chromosome[pos_to_swap[1]] = Chromosome[pos_to_swap[1]], Chromosome[pos_to_swap[0]]\n",
    "  return Chromosome"
   ]
  },
  {
   "cell_type": "code",
   "execution_count": 14,
   "metadata": {
    "id": "skVPNiL0hexQ"
   },
   "outputs": [],
   "source": [
    "def ScrambleMutation(Chromosome):\n",
    "    index1 = np.random.randint(len(Chromosome) - 1)\n",
    "    index2 = np.random.randint(len(Chromosome) - 1)\n",
    "    \n",
    "    # Ensure index1 < index2\n",
    "    if index1 > index2:\n",
    "        index1, index2 = index2, index1\n",
    "    \n",
    "    # Scramble the values between index1 and index2\n",
    "    scrambled_values = Chromosome[index1:index2+1]\n",
    "    np.random.shuffle(scrambled_values)\n",
    "    Chromosome[index1: index2 + 1] = scrambled_values\n",
    "        \n",
    "    return Chromosome"
   ]
  },
  {
   "cell_type": "code",
   "execution_count": 15,
   "metadata": {
    "id": "Wqrn9drijVBp"
   },
   "outputs": [],
   "source": [
    "def InversionMutation(Chromosome):\n",
    "    index1 = np.random.randint(len(Chromosome) - 1)\n",
    "    index2 = np.random.randint(len(Chromosome) - 1)\n",
    "    \n",
    "    # Ensure index1 < index2\n",
    "    if index1 > index2:\n",
    "        index1, index2 = index2, index1\n",
    "    \n",
    "    # Select the subset between index1 and index2\n",
    "    subset = Chromosome[index1: index2 + 1]\n",
    "    inverted_values = np.flip(subset)\n",
    "    Chromosome[index1: index2 + 1] = inverted_values\n",
    "        \n",
    "    return Chromosome"
   ]
  },
  {
   "cell_type": "code",
   "execution_count": 16,
   "metadata": {},
   "outputs": [],
   "source": [
    "def ginput():\n",
    "    points = []\n",
    "\n",
    "    # display a plot and wait for the user to click on num_points points\n",
    "    fig, ax = plt.subplots()\n",
    "    plt.xlim(0, 10)\n",
    "    plt.ylim(0, 10)\n",
    "    plt.show()\n",
    "\n",
    "    cursor = Cursor(ax, horizOn=True, vertOn=True, useblit=True, color='black', linewidth=1)\n",
    "\n",
    "    # take input fro\n",
    "    while True:\n",
    "        # get the first tuple (first point)\n",
    "        point = plt.ginput(1)\n",
    "        if point:\n",
    "            point=point[0]\n",
    "        else:\n",
    "            break\n",
    "    #         print(point)\n",
    "        points.append(point)\n",
    "        plt.plot(point[0], point[1], 'bo')\n",
    "        plt.draw()\n",
    "    return points"
   ]
  },
  {
   "cell_type": "code",
   "execution_count": 17,
   "metadata": {},
   "outputs": [],
   "source": [
    "def plot_tsp(data, Best_solution):\n",
    "    x = [x['x'] for x in data]\n",
    "    y = [x['y'] for x in data]\n",
    "    plt.scatter(x, y, color = 'b')\n",
    "    x_init, y_init = data[Best_solution[0]]['x'], data[Best_solution[0]]['y']\n",
    "    plt.scatter(x_init, y_init, color = 'r')\n",
    "    plt.text(x_init - 3, y_init - 4, \"Start\")\n",
    "\n",
    "    x = []\n",
    "    y = []\n",
    "    x.append(x_init)\n",
    "    y.append(y_init)\n",
    "    TSP_plot = plt.plot(x, y, color = 'k')\n",
    "\n",
    "    for i, city in enumerate(Best_solution[0:]):\n",
    "        city_x, city_y = data[Best_solution[i]]['x'], data[Best_solution[i]]['y']\n",
    "        x.append(city_x)\n",
    "        y.append(city_y)  \n",
    "        plt.setp(TSP_plot, xdata = x, ydata = y)\n",
    "        plt.pause(0.3)\n",
    "\n",
    "    x.append(x_init)\n",
    "    y.append(y_init)\n",
    "    plt.setp(TSP_plot, xdata = x, ydata = y)\n",
    "    plt.pause(0.3)"
   ]
  },
  {
   "cell_type": "code",
   "execution_count": 18,
   "metadata": {
    "id": "j4oGbu2krtSv"
   },
   "outputs": [],
   "source": [
    "Population_size = 50\n",
    "Elitism_percentage = 0.05\n",
    "CrossOver_Prop = 0.8\n",
    "Mutation_Prop = 0.15\n",
    "Generation_count = 150"
   ]
  },
  {
   "cell_type": "code",
   "execution_count": 19,
   "metadata": {},
   "outputs": [],
   "source": [
    "def Genetic_Algorithm(data, Elitism_percentage, CrossOver_Prop, Mutation_Prop, Generation_count):\n",
    "    \n",
    "    # Load Data\n",
    "    data = load_data(data)\n",
    "\n",
    "    # Calculate the distances\n",
    "    distances = Generate_distance(data)\n",
    "\n",
    "    # Initialization: creating an initial population of potential solutions to the problem. Each solution is represented as a chromosome or a set of genes.\n",
    "    population = Initial_population(len(data))\n",
    "\n",
    "    # Evaluation: \n",
    "    J = Cost_Function(population, distances)\n",
    "\n",
    "    # Selection:\n",
    "    sorted_population = population[J.argsort()]\n",
    "\n",
    "    # Calculate the number of elites, crossovers and mutations\n",
    "    num_elites = round(Elitism_percentage * len(population))\n",
    "    num_crossovers = round(CrossOver_Prop * (len(population) - num_elites))\n",
    "    num_mutations = round(Mutation_Prop * (len(population) - num_elites))\n",
    "\n",
    "\n",
    "    # Reproduction:\n",
    "    for gen in range(Generation_count):\n",
    "        next_generation = []\n",
    "        \n",
    "        # Choose the top solutions to the next generation via elitism\n",
    "        for i in range(num_elites):\n",
    "          next_generation.append(sorted_population[i])\n",
    "\n",
    "        # Perform crossover on the remaining solutions\n",
    "\n",
    "        for i in range(num_crossovers):\n",
    "          inx1 = np.random.randint(len(sorted_population) - 1)\n",
    "          inx2 = np.random.randint(len(sorted_population) - 1)\n",
    "          parent1 = sorted_population[inx1]\n",
    "          parent2 = sorted_population[inx2]\n",
    "\n",
    "          child =  modified_uniform_crossover(parent1, parent2)\n",
    "          next_generation.append(child)\n",
    "\n",
    "        # Perform mutation on the next generation\n",
    "        for i in range(num_mutations):\n",
    "          inx = np.random.randint(len(sorted_population) - 1)\n",
    "          parent = sorted_population[inx]\n",
    "\n",
    "          Mutation_method = np.random.choice(['Swaping_Mutation', 'InversionMutation', 'ScrambleMutation'])\n",
    "          if Mutation_method == 'Swaping_Mutation':\n",
    "            child = Swaping_Mutation(parent)\n",
    "\n",
    "          elif Mutation_method == 'InversionMutation':\n",
    "            child = InversionMutation(parent)\n",
    "\n",
    "          else:\n",
    "            child = ScrambleMutation(parent)\n",
    "\n",
    "          selection = [parent, child]\n",
    "          next_generation.append(child)\n",
    "\n",
    "        # Set the current population to the next generation\n",
    "        next_generation = np.concatenate([next_generation, sorted_population]).reshape(-1, len(distances))\n",
    "\n",
    "        # Calculate the cost function for each population\n",
    "        J = Cost_Function(next_generation, distances)\n",
    "        # Sort the population by J value\n",
    "        sorted_population = next_generation[J.argsort()][:50]\n",
    "\n",
    "    # Return the best solution found\n",
    "    Best_solution = sorted_population[0]\n",
    "    \n",
    "    distance = Total_distance(Best_solution, distances)\n",
    "    plot_tsp(data, Best_solution)\n",
    "    \n",
    "    return Best_solution, distance"
   ]
  },
  {
   "cell_type": "code",
   "execution_count": 20,
   "metadata": {
    "id": "tiRePQX31h0N"
   },
   "outputs": [],
   "source": [
    "Best_solution, distance = Genetic_Algorithm(data, Elitism_percentage, CrossOver_Prop, Mutation_Prop, Generation_count)"
   ]
  },
  {
   "cell_type": "code",
   "execution_count": 21,
   "metadata": {
    "colab": {
     "base_uri": "https://localhost:8080/"
    },
    "id": "8LMQIXU-jVoY",
    "outputId": "e34b9471-89e8-4fdb-f954-f00fc09d163e"
   },
   "outputs": [
    {
     "name": "stdout",
     "output_type": "stream",
     "text": [
      "Best solution: [12  0 10  3  5  7  9 13 11  2  6  4  8 14  1] \n",
      "Total distance: 284.3810904080332\n"
     ]
    }
   ],
   "source": [
    "print(f'Best solution: {Best_solution} \\nTotal distance: {distance}')"
   ]
  },
  {
   "cell_type": "code",
   "execution_count": 22,
   "metadata": {},
   "outputs": [],
   "source": [
    "def Ginput_Genetic_Algorithm(Elitism_percentage, CrossOver_Prop, Mutation_Prop, Generation_count):\n",
    "    \n",
    "    points = ginput()\n",
    "    data = pd.DataFrame(points, columns = ['x', 'y'])\n",
    "    data['city'] = np.random.permutation(len(points))\n",
    "    \n",
    "    # Load Data\n",
    "    data = load_data(data)\n",
    "\n",
    "    # Calculate the distances\n",
    "    distances = Generate_distance(data)\n",
    "\n",
    "    # Initialization: creating an initial population of potential solutions to the problem. Each solution is represented as a chromosome or a set of genes.\n",
    "    population = Initial_population(len(data))\n",
    "\n",
    "    # Evaluation: \n",
    "    J = Cost_Function(population, distances)\n",
    "\n",
    "    # Selection:\n",
    "    sorted_population = population[J.argsort()]\n",
    "\n",
    "    # Calculate the number of elites, crossovers and mutations\n",
    "    num_elites = round(Elitism_percentage * len(population))\n",
    "    num_crossovers = round(CrossOver_Prop * (len(population) - num_elites))\n",
    "    num_mutations = round(Mutation_Prop * (len(population) - num_elites))\n",
    "\n",
    "\n",
    "    # Reproduction:\n",
    "    for gen in range(Generation_count):\n",
    "        next_generation = []\n",
    "        \n",
    "        # Choose the top solutions to the next generation via elitism\n",
    "        for i in range(num_elites):\n",
    "          next_generation.append(sorted_population[i])\n",
    "\n",
    "        # Perform crossover on the remaining solutions\n",
    "\n",
    "        for i in range(num_crossovers):\n",
    "          inx1 = np.random.randint(len(sorted_population) - 1)\n",
    "          inx2 = np.random.randint(len(sorted_population) - 1)\n",
    "          parent1 = sorted_population[inx1]\n",
    "          parent2 = sorted_population[inx2]\n",
    "\n",
    "          child =  modified_uniform_crossover(parent1, parent2)\n",
    "          next_generation.append(child)\n",
    "\n",
    "        # Perform mutation on the next generation\n",
    "        for i in range(num_mutations):\n",
    "          inx = np.random.randint(len(sorted_population) - 1)\n",
    "          parent = sorted_population[inx]\n",
    "\n",
    "          Mutation_method = np.random.choice(['Swaping_Mutation', 'InversionMutation', 'ScrambleMutation'])\n",
    "          if Mutation_method == 'Swaping_Mutation':\n",
    "            child = Swaping_Mutation(parent)\n",
    "\n",
    "          elif Mutation_method == 'InversionMutation':\n",
    "            child = InversionMutation(parent)\n",
    "\n",
    "          else:\n",
    "            child = ScrambleMutation(parent)\n",
    "\n",
    "          selection = [parent, child]\n",
    "          next_generation.append(child)\n",
    "\n",
    "        # Set the current population to the next generation\n",
    "        next_generation = np.concatenate([next_generation, sorted_population]).reshape(-1, len(distances))\n",
    "\n",
    "        # Calculate the cost function for each population\n",
    "        J = Cost_Function(next_generation, distances)\n",
    "        # Sort the population by J value\n",
    "        sorted_population = next_generation[J.argsort()][:50]\n",
    "\n",
    "    # Return the best solution found\n",
    "    Best_solution = sorted_population[0]\n",
    "    \n",
    "    distance = Total_distance(Best_solution, distances)\n",
    "    plot_tsp(data, Best_solution)\n",
    "    \n",
    "    return Best_solution, distance"
   ]
  },
  {
   "cell_type": "code",
   "execution_count": 23,
   "metadata": {},
   "outputs": [
    {
     "name": "stdout",
     "output_type": "stream",
     "text": [
      "Best solution: [ 1 11 12  2  3  4  5  6  7  8  9 10 13  0] \n",
      "Total distance: 31.56527235295526\n"
     ]
    }
   ],
   "source": [
    "Best_solution, distance = Ginput_Genetic_Algorithm(Elitism_percentage, CrossOver_Prop, Mutation_Prop, Generation_count)\n",
    "print(f'Best solution: {Best_solution} \\nTotal distance: {distance}')"
   ]
  },
  {
   "cell_type": "code",
   "execution_count": null,
   "metadata": {},
   "outputs": [],
   "source": []
  }
 ],
 "metadata": {
  "colab": {
   "provenance": []
  },
  "kernelspec": {
   "display_name": "Python 3 (ipykernel)",
   "language": "python",
   "name": "python3"
  },
  "language_info": {
   "codemirror_mode": {
    "name": "ipython",
    "version": 3
   },
   "file_extension": ".py",
   "mimetype": "text/x-python",
   "name": "python",
   "nbconvert_exporter": "python",
   "pygments_lexer": "ipython3",
   "version": "3.9.13"
  }
 },
 "nbformat": 4,
 "nbformat_minor": 1
}
