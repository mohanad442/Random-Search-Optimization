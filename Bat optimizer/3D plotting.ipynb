{
 "cells": [
  {
   "cell_type": "code",
   "execution_count": 9,
   "metadata": {},
   "outputs": [],
   "source": [
    "from mpl_toolkits.mplot3d import Axes3D\n",
    "from matplotlib import cm\n",
    "from matplotlib.colors import LogNorm\n",
    "import matplotlib.pyplot as plt\n",
    "import numpy as np\n",
    "from numpy import sin\n",
    "from numpy import pi\n",
    "%matplotlib qt"
   ]
  },
  {
   "cell_type": "code",
   "execution_count": 10,
   "metadata": {},
   "outputs": [],
   "source": [
    "def plot3D(function,rng):\n",
    "    x = np.linspace(-rng,rng)\n",
    "    y = np.linspace(-rng,rng)\n",
    "    x,y=np.meshgrid(x,y)\n",
    "    F=function(x,y)\n",
    "\n",
    "    fig = plt.figure(figsize=(9,9))\n",
    "    ax = plt.axes(projection='3d')\n",
    "    graph = ax.contour3D(x,y, F,450,cmap = cm.jet)    \n",
    "    # There are many color options to choose from\n",
    "    # colourmaps like jet, rainbow, cube_helix and many more\n",
    "    \n",
    "    ax.set_title(f'{function.__name__} FUNCTION')         #Title of the graph\n",
    "    fig.colorbar(graph, shrink=0.5, aspect=8)  #Gives a color bar\n",
    "    ax.set_xlabel('X')                           #Labling axes\n",
    "    ax.set_ylabel('Y')\n",
    "    ax.set_zlabel('F')\n",
    "    ax.set_xlim(rng,-rng)                         #Setting axes limit\n",
    "    ax.set_ylim(rng,-rng)\n",
    "    \n",
    "    ax.view_init(4,4)                           # Viewing angle of graph\n",
    "    plt.show()"
   ]
  },
  {
   "cell_type": "code",
   "execution_count": 11,
   "metadata": {},
   "outputs": [],
   "source": [
    "def Ackley(x,y): # range (-5,5)\n",
    "        z = (-20 * np.exp(-0.2 * np.sqrt(0.5 * (x**2 + y**2)))) - (np.exp(0.5 * (np.cos(2 * np.pi * x) \\\n",
    "            + np.cos(2 * np.pi * y)))) + np.exp(1)+20\n",
    "        return z"
   ]
  },
  {
   "cell_type": "code",
   "execution_count": 12,
   "metadata": {},
   "outputs": [],
   "source": [
    "def Baele(x,y): # range (-4.5,4.5)\n",
    "        h = (1.5 - x + x*y )**2 + (2.25 - x + x * (y**2))**2 + (2.65 - x + x * (y**3))**2\n",
    "        return h"
   ]
  },
  {
   "cell_type": "code",
   "execution_count": 13,
   "metadata": {},
   "outputs": [],
   "source": [
    "def Goldstein_Price(x,y): # range (-2,2)\n",
    "    z = (1+(x+y+1)**2*(19-14*x+3*x**2-14*y+6*x*y+3*y**2))*(30+(2*x-3*y)**2*(18-32*x+12*x**2+48*y-36*x*y+27*y**2)) \n",
    "    return z"
   ]
  },
  {
   "cell_type": "code",
   "execution_count": 14,
   "metadata": {},
   "outputs": [],
   "source": [
    "def levi(x,y): # range (-10,10)\n",
    "     a= sin(3*pi*x)**2 + (x-1)**2*(1+sin(3*pi*y)*sin(3*pi*y))+ (y-1)*(y-1)*(1+sin(2*pi*y)*sin(2*pi*y))\n",
    "     return a"
   ]
  },
  {
   "cell_type": "code",
   "execution_count": 15,
   "metadata": {},
   "outputs": [],
   "source": [
    "def Schaffer_N2(x,y): # range (-100,100)\n",
    "        num = (np.sin((x**2 + y**2)**2)**2) - 0.5\n",
    "        den = (1 + 0.001*(x**2 + y**2))**2 \n",
    "        return 0.5 + num/den"
   ]
  },
  {
   "cell_type": "code",
   "execution_count": 16,
   "metadata": {},
   "outputs": [],
   "source": [
    "plot3D(Ackley,5)"
   ]
  }
 ],
 "metadata": {
  "kernelspec": {
   "display_name": "Python 3",
   "language": "python",
   "name": "python3"
  },
  "language_info": {
   "codemirror_mode": {
    "name": "ipython",
    "version": 3
   },
   "file_extension": ".py",
   "mimetype": "text/x-python",
   "name": "python",
   "nbconvert_exporter": "python",
   "pygments_lexer": "ipython3",
   "version": "3.11.1"
  },
  "orig_nbformat": 4
 },
 "nbformat": 4,
 "nbformat_minor": 2
}
