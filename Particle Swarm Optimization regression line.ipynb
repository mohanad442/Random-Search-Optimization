{
 "cells": [
  {
   "cell_type": "code",
   "execution_count": 1,
   "metadata": {
    "id": "fjGdOgZ07Gf-"
   },
   "outputs": [],
   "source": [
    "import numpy as np\n",
    "import matplotlib.pyplot as plt\n",
    "%matplotlib qt"
   ]
  },
  {
   "cell_type": "code",
   "execution_count": 2,
   "metadata": {},
   "outputs": [],
   "source": [
    "X = np.linspace(-5, 5, 2000)\n",
    "y = -2 * X + 5 + np.random.rand() * 0.75"
   ]
  },
  {
   "cell_type": "code",
   "execution_count": 3,
   "metadata": {
    "id": "R2gGvd5X5eth"
   },
   "outputs": [],
   "source": [
    "# Problem definition\n",
    "m = len(X)\n",
    "def J(theta):\n",
    "    h = theta[0] * X + theta[1] \n",
    "    error = h - y\n",
    "    return 1 / (2 * m) * sum(error**2)\n",
    "\n",
    "def predict(theta):\n",
    "    h = theta[0] * X + theta[1] \n",
    "    return h\n",
    "\n",
    "nVar = 2\n",
    "VarMin = [-5,-10]\n",
    "VarMax = [10,8]  \n",
    "VarSize = np.array([nVar,1])\n",
    "bounds = np.column_stack((VarMin,VarMax))"
   ]
  },
  {
   "cell_type": "code",
   "execution_count": 4,
   "metadata": {
    "colab": {
     "base_uri": "https://localhost:8080/"
    },
    "id": "TVAiEvR95pFV",
    "outputId": "2087dc5f-e5ef-4f0a-d5f0-d2fb2cfb9c42"
   },
   "outputs": [
    {
     "data": {
      "text/plain": [
       "array([[ -5,  10],\n",
       "       [-10,   8]])"
      ]
     },
     "execution_count": 4,
     "metadata": {},
     "output_type": "execute_result"
    }
   ],
   "source": [
    "bounds"
   ]
  },
  {
   "cell_type": "code",
   "execution_count": 5,
   "metadata": {
    "id": "JHm7N9Ie8EPH"
   },
   "outputs": [],
   "source": [
    "class Particle_swarm:\n",
    "      def __init__(self, J, bounds, VarSize):\n",
    "        self.position = np.random.uniform(bounds[:, 0], bounds[:, 1]).reshape(VarSize)\n",
    "        self.cost = J(self.position)\n",
    "        self.velocity = np.zeros(VarSize)\n",
    "        self.best_position = self.position.copy()\n",
    "        self.best_cost = self.cost"
   ]
  },
  {
   "cell_type": "code",
   "execution_count": 6,
   "metadata": {
    "id": "BJtcjUJ0-a0u"
   },
   "outputs": [],
   "source": [
    "class GlobalPractice:\n",
    "      def __init__(self):\n",
    "        self.cost = np.inf\n",
    "        self.position = []"
   ]
  },
  {
   "cell_type": "code",
   "execution_count": 7,
   "metadata": {
    "id": "QouVX0eU7N7j"
   },
   "outputs": [],
   "source": [
    "# Parameters of PSO\n",
    "W = 0.9\n",
    "c1 = 2\n",
    "c2 = 1.5\n",
    "nPop = 50\n",
    "MaxIt = 10\n",
    "GlobalBest = GlobalPractice()\n",
    "particle = [None] * nPop"
   ]
  },
  {
   "cell_type": "code",
   "execution_count": 8,
   "metadata": {
    "id": "p-nxzK5qBhYq"
   },
   "outputs": [],
   "source": [
    "X_particle = [None] * nPop\n",
    "y_particle = [None] * nPop\n",
    "\n",
    "for i in range(nPop):\n",
    "    particle[i] = Particle_swarm(J, bounds, VarSize)\n",
    "    X_particle[i] = particle[i].position[0][0]\n",
    "    y_particle[i] = particle[i].position[1][0]\n",
    "    \n",
    "    if particle[i].cost < GlobalBest.cost:\n",
    "        GlobalBest.position = particle[i].position.copy()\n",
    "        GlobalBest.cost = particle[i].cost\n",
    "        X_GlobalBest = GlobalBest.position[0][0]\n",
    "        y_GlobalBest = GlobalBest.position[1][0]"
   ]
  },
  {
   "cell_type": "code",
   "execution_count": 9,
   "metadata": {
    "id": "jtK9PJ309osA"
   },
   "outputs": [],
   "source": [
    "def Particle_Swarm_Optimization(particle, GlobalBest, cost_function, X_particle, y_particle, X_GlobalBest, y_GlobalBest):     \n",
    "    plt.figure(figsize = (20,20))\n",
    "    plt.subplot(1, 2, 1)\n",
    "    plt.title('Particle Swarm Optimization', fontsize = 25)\n",
    "    plt.xticks([])\n",
    "    plt.yticks([])\n",
    "    particles_plot = plt.scatter(X_particle, y_particle, marker = '*', label = 'Particles')\n",
    "    GlobalBest_plot = plt.scatter(X_GlobalBest, y_GlobalBest, marker = '*', s = 100, color = 'r', label = 'GlobalBest')\n",
    "    plt.legend()\n",
    "\n",
    "    plt.subplot(1, 2, 2)\n",
    "    plt.title('Regression line', fontsize = 25)\n",
    "    plt.xticks([])\n",
    "    plt.yticks([])\n",
    "    y_pred = predict(GlobalBest.position)\n",
    "    y_true = plt.plot(X, y, color = 'r', linewidth = 2, label = 'y_true')\n",
    "    line = plt.plot(X, y_pred, color = 'b', linestyle = '--', linewidth = 2, label = 'y_predict')\n",
    "    plt.legend()\n",
    "    \n",
    "    for iter in range(MaxIt):\n",
    "        for i in range(nPop):\n",
    "            # Update particles’ velocities.\n",
    "            particle[i].velocity = W * particle[i].velocity +\\\n",
    "                                  np.random.rand() * c1 * (particle[i].best_position - particle[i].position) +\\\n",
    "                                  np.random.rand() * c2 * (GlobalBest.position - particle[i].position)                              \n",
    "\n",
    "            # Move particles to their new positions.\n",
    "            particle[i].position = particle[i].position + particle[i].velocity\n",
    "\n",
    "            # if the position is out of boundries replace position with boundries\n",
    "            particle[i].position = np.maximum(bounds[:, 0].reshape(-1, 1), np.minimum(bounds[:, 1].reshape(-1, 1), particle[i].position))\n",
    "\n",
    "            # Update cost function\n",
    "            particle[i].cost = cost_function(particle[i].position)\n",
    "\n",
    "            # If a particle’s present position is better than its previous best position, update it.\n",
    "            if particle[i].cost < particle[i].best_cost:\n",
    "                particle[i].best_cost = particle[i].cost\n",
    "                particle[i].best_position = particle[i].position.copy()\n",
    "\n",
    "                # If a particle’s present position is better than Global best position, update it.\n",
    "                if particle[i].cost < GlobalBest.cost:\n",
    "                    GlobalBest.cost = particle[i].cost         \n",
    "                    GlobalBest.position = particle[i].position.copy()\n",
    "\n",
    "            # Modify the line parameters in a for loop\n",
    "            X_particle[i] = particle[i].position[0][0]\n",
    "            y_particle[i] = particle[i].position[1][0]\n",
    "\n",
    "            X_GlobalBest = GlobalBest.position[0][0]\n",
    "            y_GlobalBest = GlobalBest.position[1][0]\n",
    "\n",
    "            # Update the plots\n",
    "            plt.setp(particles_plot, offsets = np.column_stack((X_particle, y_particle)))\n",
    "            plt.setp(GlobalBest_plot, offsets = np.column_stack((X_GlobalBest, y_GlobalBest)))\n",
    "\n",
    "            y_pred = predict(GlobalBest.position)   \n",
    "\n",
    "            plt.setp(line, linestyle='--', linewidth=2, ydata = y_pred)\n",
    "            plt.pause(0.001)\n",
    "        \n",
    "    print(f'Best Cost is {GlobalBest.cost}')\n",
    "    print(f'Best position is {GlobalBest.position}')"
   ]
  },
  {
   "cell_type": "code",
   "execution_count": 10,
   "metadata": {
    "colab": {
     "base_uri": "https://localhost:8080/"
    },
    "id": "DZgmKY_VNFJg",
    "outputId": "906a387f-9a61-42ae-8bb6-ec8966fd6340"
   },
   "outputs": [
    {
     "name": "stdout",
     "output_type": "stream",
     "text": [
      "Best Cost is 0.0055409632788617075\n",
      "Best position is [[-2.03055862]\n",
      " [ 5.67332881]]\n"
     ]
    }
   ],
   "source": [
    "Particle_Swarm_Optimization(particle, GlobalBest, J, X_particle, y_particle, X_GlobalBest, y_GlobalBest)"
   ]
  },
  {
   "cell_type": "code",
   "execution_count": null,
   "metadata": {},
   "outputs": [],
   "source": []
  }
 ],
 "metadata": {
  "colab": {
   "provenance": []
  },
  "kernelspec": {
   "display_name": "Python 3 (ipykernel)",
   "language": "python",
   "name": "python3"
  },
  "language_info": {
   "codemirror_mode": {
    "name": "ipython",
    "version": 3
   },
   "file_extension": ".py",
   "mimetype": "text/x-python",
   "name": "python",
   "nbconvert_exporter": "python",
   "pygments_lexer": "ipython3",
   "version": "3.9.13"
  }
 },
 "nbformat": 4,
 "nbformat_minor": 1
}
