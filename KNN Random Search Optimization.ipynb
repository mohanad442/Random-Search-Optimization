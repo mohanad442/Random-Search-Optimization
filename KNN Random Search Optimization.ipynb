{
 "cells": [
  {
   "cell_type": "code",
   "execution_count": 16,
   "metadata": {
    "id": "jwUhj9V5sWeu"
   },
   "outputs": [],
   "source": [
    "import pandas as pd\n",
    "from math import sqrt\n",
    "import matplotlib.pyplot as plt\n",
    "import numpy as np\n",
    "%matplotlib qt"
   ]
  },
  {
   "cell_type": "code",
   "execution_count": 17,
   "metadata": {
    "id": "eknmk1d2sEhp"
   },
   "outputs": [],
   "source": [
    "TSP_data = pd.read_excel('15-Points.xlsx')"
   ]
  },
  {
   "cell_type": "code",
   "execution_count": 18,
   "metadata": {
    "colab": {
     "base_uri": "https://localhost:8080/",
     "height": 519
    },
    "id": "IzjbenaQsc46",
    "outputId": "5d7a5291-4e10-4bfa-ea95-f43d52cb62f2"
   },
   "outputs": [
    {
     "data": {
      "text/html": [
       "<div>\n",
       "<style scoped>\n",
       "    .dataframe tbody tr th:only-of-type {\n",
       "        vertical-align: middle;\n",
       "    }\n",
       "\n",
       "    .dataframe tbody tr th {\n",
       "        vertical-align: top;\n",
       "    }\n",
       "\n",
       "    .dataframe thead th {\n",
       "        text-align: right;\n",
       "    }\n",
       "</style>\n",
       "<table border=\"1\" class=\"dataframe\">\n",
       "  <thead>\n",
       "    <tr style=\"text-align: right;\">\n",
       "      <th></th>\n",
       "      <th>x</th>\n",
       "      <th>y</th>\n",
       "      <th>City</th>\n",
       "    </tr>\n",
       "  </thead>\n",
       "  <tbody>\n",
       "    <tr>\n",
       "      <th>0</th>\n",
       "      <td>5.500000e-08</td>\n",
       "      <td>9.860000e-09</td>\n",
       "      <td>1</td>\n",
       "    </tr>\n",
       "    <tr>\n",
       "      <th>1</th>\n",
       "      <td>-2.887330e+01</td>\n",
       "      <td>-7.980000e-08</td>\n",
       "      <td>2</td>\n",
       "    </tr>\n",
       "    <tr>\n",
       "      <th>2</th>\n",
       "      <td>-7.929160e+01</td>\n",
       "      <td>-2.140330e+01</td>\n",
       "      <td>3</td>\n",
       "    </tr>\n",
       "    <tr>\n",
       "      <th>3</th>\n",
       "      <td>-1.465770e+01</td>\n",
       "      <td>-4.338960e+01</td>\n",
       "      <td>4</td>\n",
       "    </tr>\n",
       "    <tr>\n",
       "      <th>4</th>\n",
       "      <td>-6.474730e+01</td>\n",
       "      <td>2.189820e+01</td>\n",
       "      <td>5</td>\n",
       "    </tr>\n",
       "    <tr>\n",
       "      <th>5</th>\n",
       "      <td>-2.905850e+01</td>\n",
       "      <td>-4.321670e+01</td>\n",
       "      <td>6</td>\n",
       "    </tr>\n",
       "    <tr>\n",
       "      <th>6</th>\n",
       "      <td>-7.207850e+01</td>\n",
       "      <td>1.815810e-01</td>\n",
       "      <td>7</td>\n",
       "    </tr>\n",
       "    <tr>\n",
       "      <th>7</th>\n",
       "      <td>-3.603660e+01</td>\n",
       "      <td>-2.161350e+01</td>\n",
       "      <td>8</td>\n",
       "    </tr>\n",
       "    <tr>\n",
       "      <th>8</th>\n",
       "      <td>-5.048080e+01</td>\n",
       "      <td>7.374470e+00</td>\n",
       "      <td>9</td>\n",
       "    </tr>\n",
       "    <tr>\n",
       "      <th>9</th>\n",
       "      <td>-5.058590e+01</td>\n",
       "      <td>-2.158820e+01</td>\n",
       "      <td>10</td>\n",
       "    </tr>\n",
       "    <tr>\n",
       "      <th>10</th>\n",
       "      <td>-1.358190e-01</td>\n",
       "      <td>-2.872930e+01</td>\n",
       "      <td>11</td>\n",
       "    </tr>\n",
       "    <tr>\n",
       "      <th>11</th>\n",
       "      <td>-6.508660e+01</td>\n",
       "      <td>-3.606250e+01</td>\n",
       "      <td>12</td>\n",
       "    </tr>\n",
       "    <tr>\n",
       "      <th>12</th>\n",
       "      <td>-2.149830e+01</td>\n",
       "      <td>7.319420e+00</td>\n",
       "      <td>13</td>\n",
       "    </tr>\n",
       "    <tr>\n",
       "      <th>13</th>\n",
       "      <td>-5.756870e+01</td>\n",
       "      <td>-4.325060e+01</td>\n",
       "      <td>14</td>\n",
       "    </tr>\n",
       "    <tr>\n",
       "      <th>14</th>\n",
       "      <td>-4.307000e+01</td>\n",
       "      <td>1.455480e+01</td>\n",
       "      <td>15</td>\n",
       "    </tr>\n",
       "  </tbody>\n",
       "</table>\n",
       "</div>"
      ],
      "text/plain": [
       "               x             y  City\n",
       "0   5.500000e-08  9.860000e-09     1\n",
       "1  -2.887330e+01 -7.980000e-08     2\n",
       "2  -7.929160e+01 -2.140330e+01     3\n",
       "3  -1.465770e+01 -4.338960e+01     4\n",
       "4  -6.474730e+01  2.189820e+01     5\n",
       "5  -2.905850e+01 -4.321670e+01     6\n",
       "6  -7.207850e+01  1.815810e-01     7\n",
       "7  -3.603660e+01 -2.161350e+01     8\n",
       "8  -5.048080e+01  7.374470e+00     9\n",
       "9  -5.058590e+01 -2.158820e+01    10\n",
       "10 -1.358190e-01 -2.872930e+01    11\n",
       "11 -6.508660e+01 -3.606250e+01    12\n",
       "12 -2.149830e+01  7.319420e+00    13\n",
       "13 -5.756870e+01 -4.325060e+01    14\n",
       "14 -4.307000e+01  1.455480e+01    15"
      ]
     },
     "execution_count": 18,
     "metadata": {},
     "output_type": "execute_result"
    }
   ],
   "source": [
    "TSP_data"
   ]
  },
  {
   "cell_type": "code",
   "execution_count": 19,
   "metadata": {
    "id": "eptvm2eEtVux"
   },
   "outputs": [],
   "source": [
    "def initialztion_point(city_num):\n",
    "    for i in range(len(data)):\n",
    "        if data.loc[i, 'City'] == city_num:\n",
    "            x = data.loc[i, 'x']\n",
    "            y = data.loc[i, 'y']\n",
    "            data.drop(index= i, inplace = True)\n",
    "            data.reset_index(drop = True, inplace = True)\n",
    "            return x, y"
   ]
  },
  {
   "cell_type": "code",
   "execution_count": 20,
   "metadata": {
    "id": "X7eZBs36sgfJ"
   },
   "outputs": [],
   "source": [
    "def calculate_distance(x1, y1):\n",
    "    min_dist = np.inf\n",
    "    for i in range(len(data)):\n",
    "        x2 = data.loc[i, 'x']\n",
    "        y2 = data.loc[i, 'y']\n",
    "        distance = sqrt((x2 - x1)**2 + (y2 - y1)**2)\n",
    "        if distance < min_dist:\n",
    "            min_dist = distance\n",
    "            min_index = i\n",
    "\n",
    "    x = data.loc[min_index, 'x']\n",
    "    y = data.loc[min_index, 'y']\n",
    "    distance = sqrt((x - x1)**2 + (y - y1)**2)\n",
    "    data.drop(index = min_index, inplace = True)\n",
    "    data.reset_index(drop = True, inplace = True)\n",
    "    return x, y, distance"
   ]
  },
  {
   "cell_type": "code",
   "execution_count": 21,
   "metadata": {
    "id": "Z3n2fw6wupit"
   },
   "outputs": [],
   "source": [
    "def GreedyOptimization(data, init_city):\n",
    "    x = []\n",
    "    y = []\n",
    "    plt.scatter(data.loc[:, 'x'], data.loc[:, 'y'], color = 'b')\n",
    "    x_init, y_init = initialztion_point(init_city)\n",
    "    plt.scatter(x_init, y_init, color = 'r')\n",
    "    plt.text(x_init - 3, y_init - 4, \"Start\")\n",
    "    \n",
    "    x.append(x_init)\n",
    "    y.append(y_init)\n",
    "    \n",
    "    TSP_plot = plt.plot(x, y, color = 'k')\n",
    "    \n",
    "    x1, y1 = x_init, y_init\n",
    "    distance = []\n",
    "    for i in range(len(data)):\n",
    "        x2, y2, d = calculate_distance(x1, y1)\n",
    "        distance.append(d)\n",
    "        x.append(x2)\n",
    "        y.append(y2)\n",
    "        \n",
    "        plt.setp(TSP_plot, xdata = x, ydata = y)\n",
    "        plt.pause(0.3)\n",
    "        x1, y1 = x2, y2\n",
    "        \n",
    "    distance.append(sqrt((x_init - x1)**2 + (y_init - y1)**2))\n",
    "    x.append(x_init)\n",
    "    y.append(y_init)\n",
    "    \n",
    "    plt.setp(TSP_plot, xdata = x, ydata = y)\n",
    "    plt.pause(0.3)\n",
    "    return x, y, distance"
   ]
  },
  {
   "cell_type": "code",
   "execution_count": 23,
   "metadata": {
    "colab": {
     "base_uri": "https://localhost:8080/"
    },
    "id": "c6buXGnwJONg",
    "outputId": "87fd4218-15f9-4d08-d8bf-62ba8c2572bc"
   },
   "outputs": [],
   "source": [
    "data = TSP_data.copy()\n",
    "x, y, distance = GreedyOptimization(data, 1)"
   ]
  },
  {
   "cell_type": "code",
   "execution_count": null,
   "metadata": {},
   "outputs": [],
   "source": []
  }
 ],
 "metadata": {
  "colab": {
   "provenance": []
  },
  "kernelspec": {
   "display_name": "Python 3 (ipykernel)",
   "language": "python",
   "name": "python3"
  },
  "language_info": {
   "codemirror_mode": {
    "name": "ipython",
    "version": 3
   },
   "file_extension": ".py",
   "mimetype": "text/x-python",
   "name": "python",
   "nbconvert_exporter": "python",
   "pygments_lexer": "ipython3",
   "version": "3.9.13"
  }
 },
 "nbformat": 4,
 "nbformat_minor": 1
}
