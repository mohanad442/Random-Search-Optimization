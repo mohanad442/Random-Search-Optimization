{
 "cells": [
  {
   "cell_type": "code",
   "execution_count": null,
   "metadata": {
    "id": "fjGdOgZ07Gf-"
   },
   "outputs": [],
   "source": [
    "import numpy as np\n",
    "import matplotlib.pyplot as plt"
   ]
  },
  {
   "cell_type": "code",
   "execution_count": null,
   "metadata": {
    "id": "R2gGvd5X5eth"
   },
   "outputs": [],
   "source": [
    "# Problem definition\n",
    "J = lambda x : (x[0] - 2)**2 + (x[1] - 4)**2\n",
    "nVar = 2\n",
    "VarMin = [-5,-10]\n",
    "VarMax = [10,8]  \n",
    "VarSize = np.array([nVar,1])\n",
    "bounds = np.column_stack((VarMin,VarMax))"
   ]
  },
  {
   "cell_type": "code",
   "execution_count": null,
   "metadata": {
    "colab": {
     "base_uri": "https://localhost:8080/"
    },
    "id": "TVAiEvR95pFV",
    "outputId": "2087dc5f-e5ef-4f0a-d5f0-d2fb2cfb9c42"
   },
   "outputs": [
    {
     "data": {
      "text/plain": [
       "array([[ -5,  10],\n",
       "       [-10,   8]])"
      ]
     },
     "execution_count": 18,
     "metadata": {},
     "output_type": "execute_result"
    }
   ],
   "source": [
    "bounds"
   ]
  },
  {
   "cell_type": "code",
   "execution_count": null,
   "metadata": {
    "id": "JHm7N9Ie8EPH"
   },
   "outputs": [],
   "source": [
    "class Particle_swarm:\n",
    "  def __init__(self, J, bounds, VarSize):\n",
    "    self.position = np.random.uniform(bounds[:, 0], bounds[:, 1]).reshape(VarSize)\n",
    "    self.cost = J(self.position)\n",
    "    self.velocity = np.zeros(VarSize)\n",
    "    self.best_position = self.position.copy()\n",
    "    self.best_cost = self.cost"
   ]
  },
  {
   "cell_type": "code",
   "execution_count": null,
   "metadata": {
    "id": "BJtcjUJ0-a0u"
   },
   "outputs": [],
   "source": [
    "class GlobalPractice:\n",
    "  def __init__(self):\n",
    "    self.cost = np.inf\n",
    "    self.position = []"
   ]
  },
  {
   "cell_type": "code",
   "execution_count": null,
   "metadata": {
    "id": "QouVX0eU7N7j"
   },
   "outputs": [],
   "source": [
    "# Parameters of PSO\n",
    "W = 1\n",
    "c1 = 2\n",
    "c2 = 2\n",
    "nPop = 50\n",
    "MaxIt = 100\n",
    "GlobalBest = GlobalPractice()\n",
    "particle = [None] * nPop"
   ]
  },
  {
   "cell_type": "code",
   "execution_count": null,
   "metadata": {
    "id": "p-nxzK5qBhYq"
   },
   "outputs": [],
   "source": [
    "for i in range(nPop):\n",
    "  particle[i] = Particle_swarm(J, bounds, VarSize)\n",
    "  if particle[i].cost < GlobalBest.cost:\n",
    "    GlobalBest.position = particle[i].position.copy()\n",
    "    GlobalBest.cost = particle[i].cost"
   ]
  },
  {
   "cell_type": "code",
   "execution_count": null,
   "metadata": {
    "id": "jtK9PJ309osA"
   },
   "outputs": [],
   "source": [
    "for iter in range(MaxIt):\n",
    "    for i in range(nPop):\n",
    "        # Update particles’ velocities.\n",
    "        particle[i].velocity = W * particle[i].velocity +\\\n",
    "                              np.random.rand() * c1 * (particle[i].best_position - particle[i].position) +\\\n",
    "                              np.random.rand() * c2 * (GlobalBest.position - particle[i].position)                              \n",
    "        \n",
    "        # Move particles to their new positions.\n",
    "        particle[i].position = particle[i].position + particle[i].velocity\n",
    "      \n",
    "        # if the position is out of boundries replace position with boundries\n",
    "        particle[i].position = np.maximum(bounds[:, 0].reshape(-1, 1), np.minimum(bounds[:, 1].reshape(-1, 1), particle[i].position))\n",
    "        \n",
    "        # Update cost function\n",
    "        particle[i].cost = J(particle[i].position)\n",
    "\n",
    "        # If a particle’s present position is better than its previous best position, update it.\n",
    "        if particle[i].cost < particle[i].best_cost:\n",
    "          particle[i].best_cost = particle[i].cost\n",
    "          particle[i].best_position = particle[i].position.copy()\n",
    "\n",
    "          # If a particle’s present position is better than Global best position, update it.\n",
    "          if particle[i].cost < GlobalBest.cost:\n",
    "            GlobalBest.cost = particle[i].cost\n",
    "            GlobalBest.position = particle[i].position.copy()\n"
   ]
  },
  {
   "cell_type": "code",
   "execution_count": null,
   "metadata": {
    "colab": {
     "base_uri": "https://localhost:8080/"
    },
    "id": "DZgmKY_VNFJg",
    "outputId": "906a387f-9a61-42ae-8bb6-ec8966fd6340"
   },
   "outputs": [
    {
     "data": {
      "text/plain": [
       "array([0.00022635])"
      ]
     },
     "execution_count": 24,
     "metadata": {},
     "output_type": "execute_result"
    }
   ],
   "source": [
    "GlobalBest.cost"
   ]
  },
  {
   "cell_type": "code",
   "execution_count": null,
   "metadata": {
    "colab": {
     "base_uri": "https://localhost:8080/"
    },
    "id": "LAzB3eu1Nhui",
    "outputId": "98c48fd6-55c2-4311-8c2c-d979fb53a215"
   },
   "outputs": [
    {
     "data": {
      "text/plain": [
       "array([[2.00205952],\n",
       "       [4.01490342]])"
      ]
     },
     "execution_count": 25,
     "metadata": {},
     "output_type": "execute_result"
    }
   ],
   "source": [
    "GlobalBest.position"
   ]
  }
 ],
 "metadata": {
  "colab": {
   "provenance": []
  },
  "kernelspec": {
   "display_name": "Python 3 (ipykernel)",
   "language": "python",
   "name": "python3"
  },
  "language_info": {
   "codemirror_mode": {
    "name": "ipython",
    "version": 3
   },
   "file_extension": ".py",
   "mimetype": "text/x-python",
   "name": "python",
   "nbconvert_exporter": "python",
   "pygments_lexer": "ipython3",
   "version": "3.9.13"
  }
 },
 "nbformat": 4,
 "nbformat_minor": 1
}
